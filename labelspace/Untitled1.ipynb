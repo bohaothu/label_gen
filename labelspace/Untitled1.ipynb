{
 "cells": [
  {
   "cell_type": "code",
   "execution_count": 5,
   "id": "convinced-senegal",
   "metadata": {},
   "outputs": [],
   "source": [
    "import numpy as np\n",
    "import pandas as pd\n",
    "from skmultilearn.dataset import load_dataset"
   ]
  },
  {
   "cell_type": "code",
   "execution_count": 6,
   "id": "liked-membrane",
   "metadata": {},
   "outputs": [
    {
     "name": "stdout",
     "output_type": "stream",
     "text": [
      "birds:train - exists, not redownloading\n"
     ]
    }
   ],
   "source": [
    "dataset_name=\"birds\"\n",
    "X_train, y_train, feature_names, label_names = load_dataset(dataset_name, 'train')\n",
    "df=pd.DataFrame.sparse.from_spmatrix(X_train)\n",
    "df.columns=list(map(lambda x: x[0], feature_names))"
   ]
  },
  {
   "cell_type": "code",
   "execution_count": 7,
   "id": "careful-jesus",
   "metadata": {},
   "outputs": [],
   "source": [
    "index_list=[10, 15, 21, 35, 36, 40, 50, 80, 81, 85, 86, 87, 88, 108, 110, 124, 148, 150, 155, 158, 159, 163, 180, 186, 187, 207, 213, 240, 241, 248, 250, 271, 272, 279]"
   ]
  },
  {
   "cell_type": "code",
   "execution_count": 20,
   "id": "literary-server",
   "metadata": {},
   "outputs": [],
   "source": [
    "stat_result=df.iloc[index_list][\"location\"].value_counts()\n",
    "stat_result=pd.DataFrame(stat_result)"
   ]
  },
  {
   "cell_type": "code",
   "execution_count": 19,
   "id": "acquired-execution",
   "metadata": {},
   "outputs": [
    {
     "data": {
      "text/html": [
       "<div>\n",
       "<style scoped>\n",
       "    .dataframe tbody tr th:only-of-type {\n",
       "        vertical-align: middle;\n",
       "    }\n",
       "\n",
       "    .dataframe tbody tr th {\n",
       "        vertical-align: top;\n",
       "    }\n",
       "\n",
       "    .dataframe thead th {\n",
       "        text-align: right;\n",
       "    }\n",
       "</style>\n",
       "<table border=\"1\" class=\"dataframe\">\n",
       "  <thead>\n",
       "    <tr style=\"text-align: right;\">\n",
       "      <th></th>\n",
       "      <th>location</th>\n",
       "    </tr>\n",
       "  </thead>\n",
       "  <tbody>\n",
       "    <tr>\n",
       "      <th>0.0</th>\n",
       "      <td>10</td>\n",
       "    </tr>\n",
       "    <tr>\n",
       "      <th>2.0</th>\n",
       "      <td>7</td>\n",
       "    </tr>\n",
       "    <tr>\n",
       "      <th>9.0</th>\n",
       "      <td>7</td>\n",
       "    </tr>\n",
       "    <tr>\n",
       "      <th>1.0</th>\n",
       "      <td>4</td>\n",
       "    </tr>\n",
       "    <tr>\n",
       "      <th>10.0</th>\n",
       "      <td>3</td>\n",
       "    </tr>\n",
       "    <tr>\n",
       "      <th>5.0</th>\n",
       "      <td>2</td>\n",
       "    </tr>\n",
       "    <tr>\n",
       "      <th>7.0</th>\n",
       "      <td>1</td>\n",
       "    </tr>\n",
       "  </tbody>\n",
       "</table>\n",
       "</div>"
      ],
      "text/plain": [
       "      location\n",
       "0.0         10\n",
       "2.0          7\n",
       "9.0          7\n",
       "1.0          4\n",
       "10.0         3\n",
       "5.0          2\n",
       "7.0          1"
      ]
     },
     "execution_count": 19,
     "metadata": {},
     "output_type": "execute_result"
    }
   ],
   "source": []
  },
  {
   "cell_type": "code",
   "execution_count": null,
   "id": "developmental-ukraine",
   "metadata": {},
   "outputs": [],
   "source": []
  }
 ],
 "metadata": {
  "kernelspec": {
   "display_name": "Python 3",
   "language": "python",
   "name": "python3"
  },
  "language_info": {
   "codemirror_mode": {
    "name": "ipython",
    "version": 3
   },
   "file_extension": ".py",
   "mimetype": "text/x-python",
   "name": "python",
   "nbconvert_exporter": "python",
   "pygments_lexer": "ipython3",
   "version": "3.8.9"
  }
 },
 "nbformat": 4,
 "nbformat_minor": 5
}
