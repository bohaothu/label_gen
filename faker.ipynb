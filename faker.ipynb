{
 "cells": [
  {
   "cell_type": "code",
   "execution_count": 1,
   "id": "valuable-techno",
   "metadata": {},
   "outputs": [],
   "source": [
    "from faker import Faker\n",
    "f=Faker(locale=\"zh_CN\")"
   ]
  },
  {
   "cell_type": "code",
   "execution_count": 22,
   "id": "recorded-jewel",
   "metadata": {},
   "outputs": [],
   "source": [
    "z=set()\n",
    "step=0\n",
    "while(len(z)<30):\n",
    "    step += 1\n",
    "    z.add(f.word())"
   ]
  },
  {
   "cell_type": "code",
   "execution_count": 16,
   "id": "funny-dining",
   "metadata": {},
   "outputs": [
    {
     "data": {
      "text/plain": [
       "['点击',\n",
       " '没有',\n",
       " '情况',\n",
       " '继续',\n",
       " '感觉',\n",
       " '方式',\n",
       " '本站',\n",
       " '部门',\n",
       " '精华',\n",
       " '自己',\n",
       " '日期',\n",
       " '问题',\n",
       " '这个',\n",
       " '软件',\n",
       " '企业',\n",
       " '学生',\n",
       " '建设',\n",
       " '全部',\n",
       " '的话',\n",
       " '以上',\n",
       " '大小',\n",
       " '城市',\n",
       " '回复',\n",
       " '男人',\n",
       " '电脑',\n",
       " '工具',\n",
       " '成为',\n",
       " '使用',\n",
       " '经营',\n",
       " '国家']"
      ]
     },
     "execution_count": 16,
     "metadata": {},
     "output_type": "execute_result"
    }
   ],
   "source": [
    "list(z)"
   ]
  },
  {
   "cell_type": "code",
   "execution_count": 23,
   "id": "nonprofit-banana",
   "metadata": {},
   "outputs": [
    {
     "name": "stdout",
     "output_type": "stream",
     "text": [
      "31\n"
     ]
    }
   ],
   "source": [
    "print(step)"
   ]
  },
  {
   "cell_type": "code",
   "execution_count": 24,
   "id": "harmful-following",
   "metadata": {},
   "outputs": [
    {
     "data": {
      "text/plain": [
       "30"
      ]
     },
     "execution_count": 24,
     "metadata": {},
     "output_type": "execute_result"
    }
   ],
   "source": [
    "len(z)"
   ]
  },
  {
   "cell_type": "code",
   "execution_count": null,
   "id": "raised-clinton",
   "metadata": {},
   "outputs": [],
   "source": []
  }
 ],
 "metadata": {
  "kernelspec": {
   "display_name": "Python 3",
   "language": "python",
   "name": "python3"
  },
  "language_info": {
   "codemirror_mode": {
    "name": "ipython",
    "version": 3
   },
   "file_extension": ".py",
   "mimetype": "text/x-python",
   "name": "python",
   "nbconvert_exporter": "python",
   "pygments_lexer": "ipython3",
   "version": "3.8.2"
  }
 },
 "nbformat": 4,
 "nbformat_minor": 5
}
