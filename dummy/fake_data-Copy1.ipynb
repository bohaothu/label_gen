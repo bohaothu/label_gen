{
 "cells": [
  {
   "cell_type": "code",
   "execution_count": 60,
   "id": "pleasant-enzyme",
   "metadata": {},
   "outputs": [],
   "source": [
    "import numpy as np\n",
    "import pandas as pd\n",
    "import ujson"
   ]
  },
  {
   "cell_type": "code",
   "execution_count": 61,
   "id": "proved-first",
   "metadata": {},
   "outputs": [],
   "source": [
    "row_num, feature_num, label_num = 100, 5, 30\n",
    "fake_features=np.random.rand(row_num, feature_num)\n",
    "fake_labels=[np.random.randint(0,2,label_num) for x in range(row_num)]\n",
    "df=pd.DataFrame(data=fake_features,columns=[str(\"feature\")+str(i+1) for i in range(feature_num)])\n",
    "df[\"labels\"]=fake_labels\n",
    "df[\"labels\"]=df[\"labels\"].apply(lambda x: str(ujson.dumps(x.tolist())))\n",
    "df.index.name=\"#\"\n",
    "df.to_csv(f\"fake_{str(row_num)}_{str(feature_num)}.csv\",index=True)"
   ]
  },
  {
   "cell_type": "code",
   "execution_count": null,
   "id": "distributed-throat",
   "metadata": {},
   "outputs": [],
   "source": []
  }
 ],
 "metadata": {
  "kernelspec": {
   "display_name": "Python 3",
   "language": "python",
   "name": "python3"
  },
  "language_info": {
   "codemirror_mode": {
    "name": "ipython",
    "version": 3
   },
   "file_extension": ".py",
   "mimetype": "text/x-python",
   "name": "python",
   "nbconvert_exporter": "python",
   "pygments_lexer": "ipython3",
   "version": "3.8.2"
  }
 },
 "nbformat": 4,
 "nbformat_minor": 5
}
